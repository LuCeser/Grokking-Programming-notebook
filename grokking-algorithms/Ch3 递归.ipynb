{
 "cells": [
  {
   "cell_type": "markdown",
   "metadata": {},
   "source": [
    "# 递归\n",
    "\n",
    "**什么是递归：**\n",
    "\n",
    "* 递归指的是函数调用自己\n",
    "\n",
    "**递归的特点**\n",
    "\n",
    "* 让逻辑更加清晰，**没有性能上的优势**\n",
    "\n",
    "限制递归何时开始何时结束需要两个条件：\n",
    "\n",
    "**基线条件**\n",
    "\n",
    "* 什么条件下函数停止调用自己\n",
    "\n",
    "**递归条件**\n",
    "\n",
    "* 什么条件下函数开始调用自己"
   ]
  },
  {
   "cell_type": "code",
   "execution_count": 2,
   "metadata": {},
   "outputs": [
    {
     "name": "stdout",
     "output_type": "stream",
     "text": [
      "120\n"
     ]
    }
   ],
   "source": [
    "def fact(x):\n",
    "    '''\n",
    "    不算是一个非常好例子的递归函数\n",
    "    '''\n",
    "    if x==1: # 基线条件，x等于1时递归结束\n",
    "        return 1\n",
    "    else: # 递归条件， x不等于1则递归调用自身\n",
    "        return x*fact(x - 1)\n",
    "    \n",
    "# 相当于执行了1 * 2 * 3 * 4 *5 =120\n",
    "print(fact(5))"
   ]
  },
  {
   "cell_type": "markdown",
   "metadata": {},
   "source": [
    "```\n",
    "5 * fact(4)\n",
    "5 * (4 *  fact(3))\n",
    "5 * (4 *  (3 * fact(2)))\n",
    "5 * (4 *  (3 * (2 * fact(1))))\n",
    "5 * (4 *  (3 * (2 *1)))\n",
    "5 * (4 *  (3 * 2))\n",
    "5 * (4 *  6)\n",
    "5 * 24\n",
    "120\n",
    "```\n",
    "函数`fact()`的调用属性如上所示，不止如此，内存占用的峰值也是如曲线从左到右到达顶峰，再从右到左收缩。[^注1]\n",
    "\n",
    "\n",
    "# 栈\n",
    "\n",
    "**基本操作**\n",
    "\n",
    "* 压入\n",
    "* 弹出\n",
    "* 后进先出\n",
    "\n",
    "函数的调用可以认为是一个栈的结构\n",
    "\n",
    "**函数栈的问题：**\n",
    "\n",
    "* 每个函数调用都会占用一定的内存，如果栈很高可能会导致内存不够\n",
    "\n",
    "要解决这个问题有两种方式\n",
    "\n",
    "* 使用循环\n",
    "* 使用尾递归\n",
    "    * 并非所有语言都支持\n",
    "    \n",
    "[^注1]： https://www.zhihu.com/question/20761771"
   ]
  }
 ],
 "metadata": {
  "kernelspec": {
   "display_name": "Python 3",
   "language": "python",
   "name": "python3"
  },
  "language_info": {
   "codemirror_mode": {
    "name": "ipython",
    "version": 3
   },
   "file_extension": ".py",
   "mimetype": "text/x-python",
   "name": "python",
   "nbconvert_exporter": "python",
   "pygments_lexer": "ipython3",
   "version": "3.6.8"
  }
 },
 "nbformat": 4,
 "nbformat_minor": 2
}
