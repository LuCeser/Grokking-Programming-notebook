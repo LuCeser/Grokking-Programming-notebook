{
 "cells": [
  {
   "cell_type": "markdown",
   "metadata": {},
   "source": [
    "**递归的特点**\n",
    "\n",
    "* 让逻辑更加清晰，**没有性能上的优势**\n",
    "\n",
    "限制递归何时开始何时结束需要两个条件。\n",
    "\n",
    "**基线条件**\n",
    "\n",
    "* 什么条件下函数停止调用自己\n",
    "\n",
    "**递归条件**\n",
    "\n",
    "* 什么条件下函数开始调用自己\n",
    "\n"
   ]
  },
  {
   "cell_type": "code",
   "execution_count": null,
   "metadata": {},
   "outputs": [],
   "source": []
  }
 ],
 "metadata": {
  "kernelspec": {
   "display_name": "Python 3",
   "language": "python",
   "name": "python3"
  },
  "language_info": {
   "codemirror_mode": {
    "name": "ipython",
    "version": 3
   },
   "file_extension": ".py",
   "mimetype": "text/x-python",
   "name": "python",
   "nbconvert_exporter": "python",
   "pygments_lexer": "ipython3",
   "version": "3.6.8"
  }
 },
 "nbformat": 4,
 "nbformat_minor": 2
}
