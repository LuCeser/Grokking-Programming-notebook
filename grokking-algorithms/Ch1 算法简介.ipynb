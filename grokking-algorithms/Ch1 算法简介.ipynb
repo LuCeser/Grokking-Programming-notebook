{
 "cells": [
  {
   "cell_type": "markdown",
   "metadata": {},
   "source": [
    "# 什么是算法\n",
    "\n",
    "**算法是执行一个任务的指令集合。**从这个角度来看,算法并没有那么神奇也没有那么遥不可及,因为任何的代码片段都可以看作算法。\n",
    "\n",
    "算法没有太大的优劣之分，评价算法的好坏关键在于如何利用有限的资源多快好省的完成任务。\n",
    "\n",
    "# 二分查找\n",
    "\n",
    "**限定条件**\n",
    "\n",
    "* 有序数组\n",
    "\n",
    "**基本逻辑**\n",
    " \n",
    "1. 找到数组中间的值与需要查询的值做对比\n",
    "2. 如果需要查询的值小于中间值则将数组前半截作为新数组\n",
    "3. 如果需要查询的值大于中间值则将数组后半截作为新数组\n",
    "4. 重复第一步，直到找到值"
   ]
  },
  {
   "cell_type": "code",
   "execution_count": 32,
   "metadata": {},
   "outputs": [
    {
     "name": "stdout",
     "output_type": "stream",
     "text": [
      "待检查数组[11, 13, 20, 49, 52, 60, 75, 88, 92, 106, 111], 中间值 5 猜测值60\n",
      "实际值88 大于猜测的值 60\n",
      "待检查数组[60, 75, 88, 92, 106], 中间值 2 猜测值88\n",
      "找到值 88, 2\n"
     ]
    }
   ],
   "source": [
    "# 定义一个二分查询方法，传入需要查找的数组以及需要查询的元素\n",
    "def binary_search(list_to_check, item):\n",
    "    low = 0\n",
    "    high = len(list_to_check) - 1\n",
    "    mid = (low + high) // 2\n",
    "    \n",
    "    guess = list_to_check[mid]\n",
    "    \n",
    "    print(\"待检查数组{0}, 中间值 {1} 猜测值{2}\".format(list_to_check, mid, guess))\n",
    "    if item < guess:\n",
    "        # 如果实际的值小于猜测的值，则拿出前半段数组再次执行\n",
    "        split_list = list_to_check[:mid]\n",
    "        print(\"实际值{0} 小于猜测的值 {1}\".format(item, guess))\n",
    "        binary_search(split_list, item)\n",
    "    elif item > guess:\n",
    "        # 如果实际的值大于猜测的值，则拿出后半段数组再次执行\n",
    "        split_list = list_to_check[mid:-1]\n",
    "        print(\"实际值{0} 大于猜测的值 {1}\".format(item, guess))\n",
    "        binary_search(split_list, item)\n",
    "    elif item == guess:\n",
    "        print(\"找到值 {0}, {1}\".format(guess, mid))         \n",
    "\n",
    "# 原始数组，我们需要从该数组中找出值所在的位置\n",
    "orig_list = [11,13,20,49,52,60,75,88,92,106,111]\n",
    "\n",
    "binary_search(orig_list, 88)"
   ]
  },
  {
   "cell_type": "markdown",
   "metadata": {},
   "source": [
    "## 应用：猜价格\n",
    "\n",
    "\n",
    "猜价格游戏规则：\n",
    "\n",
    "* 给出一个物品，让参与者猜物品的\n",
    "* 主持人只能回答价格高了或者价格低了\n",
    "* 参与者不断猜测价格，直到回答正确\n",
    "\n",
    "这是一个典型的可以利用二分查询的场景。假设这件物品的实际价格为220元，我们估计价格为100元，得到价格过低的结果。接下来我们再猜的时候可以把这个价格提升的更高一点，比如300。\n",
    "\n",
    "# 如何评价算法运行时间\n",
    "\n",
    "不同的算法速度可能不尽相同，或者说不同的算法以不同的速度增加，可以使用**大O表示法**指出算法的速度有多快。\n",
    "\n",
    "**要点：**\n",
    "\n",
    "* 算法的速度指的并非时间，而是操作的增速\n",
    "* 谈论算法速度时，指的是随着输入的增加，其运行时间将以什么样的速度增加\n",
    "\n",
    "## 常见大O运行时间\n",
    "\n",
    "* $O(log n)$，对数时间\n",
    "    * 二分查找\n",
    "* $O(n)$, 线性时间\n",
    "    * 简单查找\n",
    "* $O(n * log n)$\n",
    "* $O(n^{2})$\n",
    "* $O(n!)$"
   ]
  },
  {
   "cell_type": "code",
   "execution_count": 25,
   "metadata": {},
   "outputs": [
    {
     "data": {
      "image/png": "[encoded data removed]",
      "text/plain": [
       "<Figure size 432x288 with 1 Axes>"
      ]
     },
     "metadata": {
      "needs_background": "light"
     },
     "output_type": "display_data"
    }
   ],
   "source": [
    "import numpy as np\n",
    "import math\n",
    "import matplotlib.pyplot as plt\n",
    "\n",
    "from functools import reduce\n",
    "\n",
    "\n",
    "%matplotlib inline\n",
    "\n",
    "x=np.arange(2, 10, 0.05)\n",
    "y1=[math.log(a,2) for a in x]\n",
    "y2=[a for a in x]\n",
    "y3=[a * math.log(a,2) for a in x]\n",
    "y4=[a*a for a in x]\n",
    "\n",
    "plot = plt.plot(x, y1, '-r', label='O(lg(x))') # 对数时间复杂度\n",
    "plot = plt.plot(x, y2, '-g', label='O(n)') # 线性时间复杂度\n",
    "plot = plt.plot(x, y3, '-c', label='O(N*lg(x))')\n",
    "plot = plt.plot(x, y4, '-b', label='O(n^2)')\n",
    "\n",
    "\n",
    "plt.legend(loc='lower right')\n",
    "plt.show()"
   ]
  }
 ],
 "metadata": {
  "kernelspec": {
   "display_name": "Python 3",
   "language": "python",
   "name": "python3"
  },
  "language_info": {
   "codemirror_mode": {
    "name": "ipython",
    "version": 3
   },
   "file_extension": ".py",
   "mimetype": "text/x-python",
   "name": "python",
   "nbconvert_exporter": "python",
   "pygments_lexer": "ipython3",
   "version": "3.6.8"
  }
 },
 "nbformat": 4,
 "nbformat_minor": 2
}
