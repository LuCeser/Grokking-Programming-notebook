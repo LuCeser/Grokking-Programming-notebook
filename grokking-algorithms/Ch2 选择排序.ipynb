{
 "cells": [
  {
   "cell_type": "markdown",
   "metadata": {},
   "source": [
    "# 数组与链表\n",
    "\n",
    "数组特点：\n",
    "\n",
    "* 内存中的地址是连续的\n",
    "* 数组容量变大，则需要重新分配内存空间\n",
    "* 数组空间分配过大，可能浪费内存空间\n",
    "* 如果数组需要分配空间过大，内存中没有相应连续空间，则分配失败\n",
    "* 适合查找\n",
    "\n",
    "链表特点：\n",
    "\n",
    "* 内存中地址可以是不连续的\n",
    "* 链表中每一个元素都存储了下一个元素的地址\n",
    "* 链表中的数据必须依次访问\n",
    "* 适合插入，删除\n",
    "\n",
    "## 各操作时间复杂度\n",
    "\n",
    "| 操作 | 数组 | 链表 |\n",
    "|------|------|------|\n",
    "| 读取 | O(1) | O(n) |\n",
    "| 插入 | O(n) | O(1) |\n",
    "| 删除 | O(n) | O(1) |\n",
    "\n",
    "*链表删除操作时间复杂度依赖于该数据是否能立即访问到，比如位于链表头部或尾部的数据*\n",
    "\n",
    "\n",
    "# 选择排序"
   ]
  },
  {
   "cell_type": "code",
   "execution_count": 5,
   "metadata": {},
   "outputs": [
    {
     "name": "stdout",
     "output_type": "stream",
     "text": [
      "[3, 12, 48, 52, 83, 102]\n"
     ]
    }
   ],
   "source": [
    "def find_smallest(arr):\n",
    "    '''\n",
    "    找到数组中最小的值\n",
    "    '''\n",
    "    smallest = arr[0] # 设置默认最小值为数组第一位\n",
    "    smallest_index=0 # 最小值索引\n",
    "    for i in range(0, len(arr)):\n",
    "        if arr[i]<smallest:\n",
    "            smallest=arr[i]\n",
    "            smallest_index = i\n",
    "    \n",
    "    return smallest_index, smallest\n",
    "    \n",
    "sort_list = [83, 12, 48, 102, 3, 52]\n",
    "\n",
    "def selection_sort(arr):\n",
    "    sorted_list = []\n",
    "    while arr: # 只要数组不为空就查询数组中最小的元素\n",
    "        smallest_index, smallest = find_smallest(arr) # 找到当前数组中最小的元素以及其索引\n",
    "        sorted_list.append(smallest) # 将当前数组中最小的值放入排序后的数组中\n",
    "        del arr[smallest_index] # 删除数组中的最小值\n",
    "    return sorted_list\n",
    "\n",
    "print(selection_sort(sort_list))"
   ]
  }
 ],
 "metadata": {
  "kernelspec": {
   "display_name": "Python 3",
   "language": "python",
   "name": "python3"
  },
  "language_info": {
   "codemirror_mode": {
    "name": "ipython",
    "version": 3
   },
   "file_extension": ".py",
   "mimetype": "text/x-python",
   "name": "python",
   "nbconvert_exporter": "python",
   "pygments_lexer": "ipython3",
   "version": "3.6.8"
  }
 },
 "nbformat": 4,
 "nbformat_minor": 2
}
