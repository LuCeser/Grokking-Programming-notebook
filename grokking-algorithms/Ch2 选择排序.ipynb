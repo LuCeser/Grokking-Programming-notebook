{
 "cells": [
  {
   "cell_type": "markdown",
   "metadata": {},
   "source": [
    "# 数组与链表\n",
    "\n",
    "数组特点：\n",
    "\n",
    "* 内存中的地址是连续的\n",
    "* 数组容量变大，则需要重新分配内存空间\n",
    "* 数组空间分配过大，可能浪费内存空间\n",
    "* 如果数组需要分配空间过大，内存中没有相应连续空间，则分配失败\n",
    "* 适合查找\n",
    "\n",
    "链表特点：\n",
    "\n",
    "* 内存中地址可以是不连续的\n",
    "* 链表中每一个元素都存储了下一个元素的地址\n",
    "* 链表中的数据必须依次访问\n",
    "* 适合插入，删除\n",
    "\n",
    "## 各操作时间复杂度\n",
    "\n",
    "| 操作 | 数组 | 链表 |\n",
    "|------|------|------|\n",
    "| 读取 | O(1) | O(n) |\n",
    "| 插入 | O(n) | O(1) |\n",
    "| 删除 | O(n) | O(1) |\n",
    "\n",
    "*链表删除操作时间复杂度依赖于该数据是否能立即访问到，比如位于链表头部或尾部的数据*\n",
    "\n",
    "\n",
    "# 选择排序"
   ]
  },
  {
   "cell_type": "code",
   "execution_count": null,
   "metadata": {},
   "outputs": [],
   "source": [
    "def selection_sort(arr):\n",
    "    \n",
    "    pass"
   ]
  }
 ],
 "metadata": {
  "kernelspec": {
   "display_name": "Python 3",
   "language": "python",
   "name": "python3"
  },
  "language_info": {
   "codemirror_mode": {
    "name": "ipython",
    "version": 3
   },
   "file_extension": ".py",
   "mimetype": "text/x-python",
   "name": "python",
   "nbconvert_exporter": "python",
   "pygments_lexer": "ipython3",
   "version": "3.6.8"
  }
 },
 "nbformat": 4,
 "nbformat_minor": 2
}
