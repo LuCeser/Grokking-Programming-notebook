{
 "cells": [
  {
   "cell_type": "markdown",
   "metadata": {},
   "source": [
    "# 什么是算法\n",
    "\n",
    "**算法是执行一个任务的指令集合。**从这个角度来看,算法并没有那么神奇也没有那么遥不可及,因为任何的代码片段都可以看作算法。\n",
    "\n",
    "算法有优劣之分\n",
    "\n",
    "算法最重要的是能否\n",
    "\n",
    "# 二分查找\n",
    "\n",
    "**限定条件**\n",
    "\n",
    "* 有序数组\n",
    "\n",
    "**基本逻辑**\n",
    " \n",
    "1. 找到数组中间的值与需要查询的值做对比\n",
    "2. 如果需要查询的值小于中间值则将数组前半截作为新数组\n",
    "3. 如果需要查询的值大于中间值则将数组后半截作为新数组\n",
    "4. 重复第一步，直到找到值"
   ]
  },
  {
   "cell_type": "code",
   "execution_count": 29,
   "metadata": {},
   "outputs": [
    {
     "name": "stdout",
     "output_type": "stream",
     "text": [
      "待检查数组[11, 13, 20, 49, 52, 60, 75, 88, 92, 106, 111], 中间值 5 猜测值60\n",
      "[60, 75, 88, 92, 106]\n",
      "待检查数组[60, 75, 88, 92, 106], 中间值 2 猜测值88\n",
      "找到值 88, 2\n",
      "None\n"
     ]
    }
   ],
   "source": [
    "# 定义一个二分查询方法，传入需要查找的数组以及需要查询的元素\n",
    "def binary_search(list_to_check, item):\n",
    "    low = 0\n",
    "    high = len(list_to_check) - 1\n",
    "    mid = (low + high) // 2\n",
    "    \n",
    "    guess = list_to_check[mid]\n",
    "    \n",
    "    print(\"待检查数组{0}, 中间值 {1} 猜测值{2}\".format(list_to_check, mid, guess))\n",
    "    #print(list_to_check)\n",
    "    if item < guess:\n",
    "        split_list = list_to_check[:mid]\n",
    "        print(\"item great then guess {0}\".format(split_list))\n",
    "        binary_search(split_list, item)\n",
    "    elif item > guess:\n",
    "        split_list = list_to_check[mid:-1]\n",
    "        print(split_list)\n",
    "        binary_search(split_list, item)\n",
    "    elif item == guess:\n",
    "        print(\"找到值 {0}, {1}\".format(guess, mid)) \n",
    "        return mid\n",
    "        \n",
    "\n",
    "\n",
    "orig_list = [11,13,20,49,52,60,75,88,92,106,111]\n",
    "\n",
    "ret = binary_search(orig_list, 88)\n",
    "print(ret)"
   ]
  },
  {
   "cell_type": "markdown",
   "metadata": {},
   "source": [
    "## 应用：猜价格\n",
    "\n",
    "\n",
    "猜价格游戏规则：\n",
    "\n",
    "* 给出一个物品，让参与者猜物品的\n",
    "* 主持人只能回答价格高了或者价格低了\n",
    "* 参与者不断猜测价格，直到回答正确\n",
    "\n",
    "这是一个典型的可以利用二分查询的场景。假设这件物品的实际价格为220元，我们估计价格为100元，得到价格过低的结果。接下来我们再猜的时候可以把这个价格提升的更高一点，比如300。\n",
    "\n",
    "# 如何评价算法运行时间\n",
    "\n",
    "不同的算法速度可能不尽相同，或者说不同的算法以不同的速度增加，可以使用**大O表示法**指出算法的速度有多快。\n",
    "\n",
    "要点：\n",
    "\n",
    "* 指的并非以秒为单位的速度\n",
    "* 比较操作数，指出算法运行的增速\n",
    "* 表达的是最长运行实现"
   ]
  },
  {
   "cell_type": "code",
   "execution_count": null,
   "metadata": {},
   "outputs": [],
   "source": []
  }
 ],
 "metadata": {
  "kernelspec": {
   "display_name": "Python 3",
   "language": "python",
   "name": "python3"
  },
  "language_info": {
   "codemirror_mode": {
    "name": "ipython",
    "version": 3
   },
   "file_extension": ".py",
   "mimetype": "text/x-python",
   "name": "python",
   "nbconvert_exporter": "python",
   "pygments_lexer": "ipython3",
   "version": "3.6.8"
  }
 },
 "nbformat": 4,
 "nbformat_minor": 2
}
