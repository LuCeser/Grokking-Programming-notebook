{
 "cells": [
  {
   "cell_type": "markdown",
   "metadata": {},
   "source": [
    "# 什么是算法\n",
    "\n",
    "**算法是执行一个任务的指令集合。**从这个角度来看,算法并没有那么神奇也没有那么遥不可及,因为任何的代码片段都可以看作算法。\n",
    "\n",
    "算法有优劣之分\n",
    "\n",
    "算法最重要的是能否\n",
    "\n",
    "# 二分查找\n",
    "\n",
    "**限定条件**\n",
    "\n",
    "* 有序数组\n"
   ]
  },
  {
   "cell_type": "code",
   "execution_count": 28,
   "metadata": {},
   "outputs": [
    {
     "name": "stdout",
     "output_type": "stream",
     "text": [
      "待检查数组[11, 13, 20, 49, 52, 60, 75, 88, 92, 106, 111], 中间值 5 猜测值60\n",
      "[60, 75, 88, 92, 106]\n",
      "待检查数组[60, 75, 88, 92, 106], 中间值 2 猜测值88\n",
      "找到值 88, 2\n",
      "None\n"
     ]
    }
   ],
   "source": [
    "# 定义一个二分查询方法，传入需要查找的数组以及需要查询的元素\n",
    "def binary_search(list_to_check, item):\n",
    "    low = 0\n",
    "    high = len(list_to_check) - 1\n",
    "    mid = (low + high) // 2\n",
    "    \n",
    "    guess = list_to_check[mid]\n",
    "    \n",
    "    print(\"待检查数组{0}, 中间值 {1} 猜测值{2}\".format(list_to_check, mid, guess))\n",
    "    #print(list_to_check)\n",
    "    if item < guess:\n",
    "        split_list = list_to_check[:mid]\n",
    "        print(\"item great then guess {0}\".format(split_list))\n",
    "        binary_search(split_list, item)\n",
    "    elif item > guess:\n",
    "        split_list = list_to_check[mid:-1]\n",
    "        print(split_list)\n",
    "        binary_search(split_list, item)\n",
    "    elif item == guess:\n",
    "        print(\"找到值 {0}, {1}\".format(guess, mid)) \n",
    "        return mid\n",
    "        \n",
    "\n",
    "\n",
    "orig_list = [11,13,20,49,52,60,75,88,92,106,111]\n",
    "\n",
    "ret = binary_search(orig_list, 88)\n",
    "print(ret)"
   ]
  },
  {
   "cell_type": "markdown",
   "metadata": {},
   "source": [
    "## 应用：猜价格\n"
   ]
  }
 ],
 "metadata": {
  "kernelspec": {
   "display_name": "Python 3",
   "language": "python",
   "name": "python3"
  },
  "language_info": {
   "codemirror_mode": {
    "name": "ipython",
    "version": 3
   },
   "file_extension": ".py",
   "mimetype": "text/x-python",
   "name": "python",
   "nbconvert_exporter": "python",
   "pygments_lexer": "ipython3",
   "version": "3.6.8"
  }
 },
 "nbformat": 4,
 "nbformat_minor": 2
}
